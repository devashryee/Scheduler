{
 "cells": [
  {
   "cell_type": "markdown",
   "metadata": {},
   "source": [
    "# Welcome to Scheduler!\n",
    "\n",
    "### Getting started\n",
    "let's load the teacher, course and classroom data from a file "
   ]
  },
  {
   "cell_type": "code",
   "execution_count": 4,
   "metadata": {},
   "outputs": [
    {
     "name": "stdout",
     "output_type": "stream",
     "text": [
      "/Users/gcallah/GitProjects/Scheduler/scheduler\n"
     ]
    }
   ],
   "source": [
    "cd ../scheduler"
   ]
  },
  {
   "cell_type": "code",
   "execution_count": 5,
   "metadata": {},
   "outputs": [
    {
     "ename": "AttributeError",
     "evalue": "module 'JSON_Data_Maker' has no attribute 'make_data'",
     "output_type": "error",
     "traceback": [
      "\u001b[0;31m---------------------------------------------------------------------------\u001b[0m",
      "\u001b[0;31mAttributeError\u001b[0m                            Traceback (most recent call last)",
      "\u001b[0;32m<ipython-input-5-5b967b4067b4>\u001b[0m in \u001b[0;36m<module>\u001b[0;34m()\u001b[0m\n\u001b[1;32m      3\u001b[0m \u001b[0;32mimport\u001b[0m \u001b[0mJSON_Data_Maker\u001b[0m \u001b[0;32mas\u001b[0m \u001b[0mdatamaker\u001b[0m\u001b[0;34m\u001b[0m\u001b[0m\n\u001b[1;32m      4\u001b[0m \u001b[0;34m\u001b[0m\u001b[0m\n\u001b[0;32m----> 5\u001b[0;31m \u001b[0mdatamaker\u001b[0m\u001b[0;34m.\u001b[0m\u001b[0mmake_data\u001b[0m\u001b[0;34m(\u001b[0m\u001b[0;34m)\u001b[0m\u001b[0;34m\u001b[0m\u001b[0m\n\u001b[0m",
      "\u001b[0;31mAttributeError\u001b[0m: module 'JSON_Data_Maker' has no attribute 'make_data'"
     ]
    }
   ],
   "source": [
    "# run this cell (shift + enter) to create the data we need\n",
    "import json\n",
    "import JSON_Data_Maker as datamaker\n",
    "\n",
    "datamaker.make_data()"
   ]
  },
  {
   "cell_type": "code",
   "execution_count": 25,
   "metadata": {},
   "outputs": [],
   "source": [
    "# now the data we created is loaded. run this cell (shitf + enter)\n",
    "input_file = \"sample_json_data.txt\"\n",
    "with open(input_file, 'r') as f:\n",
    "    data = json.load(f)\n",
    "    \n",
    "professors = data['professors']\n",
    "prof_info = data['prof_info']\n",
    "rooms = data['rooms']\n",
    "room_capacities = data['room_capacities']\n",
    "courses = data['courses']\n",
    "course_no_students = data['course_no_students']\n",
    "course_mins = data['course_mins']\n",
    "course_days_weekly = data['course_days_weekly']"
   ]
  },
  {
   "cell_type": "code",
   "execution_count": 26,
   "metadata": {},
   "outputs": [
    {
     "name": "stdout",
     "output_type": "stream",
     "text": [
      "John Smith\n",
      "Lisa Jones\n",
      "Mike Williams\n",
      "Tim Simpson\n",
      "Rachel Smith\n",
      "Gregg Woods\n",
      "Simon Valinski\n",
      "Chu Yen\n",
      "Peter Parker\n",
      "Lisa Mullen\n",
      "Elizabeth Walker\n",
      "Brian K. Dickson\n",
      "Jamir Abdullah\n"
     ]
    }
   ],
   "source": [
    "# see a list of professors below. run this cell (shitf + enter)\n",
    "print('\\n'.join(professors))"
   ]
  },
  {
   "cell_type": "code",
   "execution_count": 27,
   "metadata": {},
   "outputs": [
    {
     "name": "stdout",
     "output_type": "stream",
     "text": [
      "655\n",
      "666\n",
      "745a\n",
      "745b\n",
      "433\n",
      "201\n",
      "115a\n",
      "115b\n"
     ]
    }
   ],
   "source": [
    "# list for rooms. run this cell (shitf + enter)\n",
    "print('\\n'.join(rooms))"
   ]
  },
  {
   "cell_type": "code",
   "execution_count": 28,
   "metadata": {},
   "outputs": [
    {
     "name": "stdout",
     "output_type": "stream",
     "text": [
      "physics\n",
      "chemistry\n",
      "biochemistry\n",
      "biology 1\n",
      "biology 2\n",
      "molecular biology\n",
      "calculus 1\n",
      "calculus 4\n",
      "astrophysics\n"
     ]
    }
   ],
   "source": [
    "# finally, the list of courses is shown. run this cell (shitf + enter)\n",
    "print('\\n'.join(courses))"
   ]
  },
  {
   "cell_type": "markdown",
   "metadata": {},
   "source": [
    "## Scheduling the Teachers, Courses and Classrooms "
   ]
  },
  {
   "cell_type": "code",
   "execution_count": 29,
   "metadata": {},
   "outputs": [],
   "source": [
    "#run this cell (shitf + enter)\n",
    "from teacherCourseCSP import CourseRoomProfAssigner as CRPassign"
   ]
  },
  {
   "cell_type": "code",
   "execution_count": 30,
   "metadata": {},
   "outputs": [],
   "source": [
    "#run this cell (shitf + enter)\n",
    "def time_formatter(course,start_time):\n",
    "#function to output nice looking time\n",
    "    hs,ms = start_time\n",
    "    end = hs*6 + ms//10 + course_mins[course]//10\n",
    "    end_time = (end//6,(end - (end//6)*6)*10)\n",
    "    he,me = end_time\n",
    "    output = '{:0>2}'.format(hs)+':'+'{:0>2}'.format(ms)+' to ' + '{:0>2}'.format(he)+':'+ '{:0>2}'.format(me) \n",
    "    return output"
   ]
  },
  {
   "cell_type": "code",
   "execution_count": 31,
   "metadata": {},
   "outputs": [
    {
     "name": "stdout",
     "output_type": "stream",
     "text": [
      "MON\n",
      "-----\n",
      "physics - Brian K. Dickson - 115b - 14:00 to 15:00\n",
      "chemistry - Peter Parker - 655 - 13:00 to 14:30\n",
      "biology 2 - Peter Parker - 745b - 08:30 to 09:30\n",
      "calculus 4 - Lisa Mullen - 201 - 10:30 to 11:30\n",
      "\n",
      "TUES\n",
      "-----\n",
      "physics - Brian K. Dickson - 115b - 12:30 to 13:30\n",
      "biochemistry - Peter Parker - 655 - 13:00 to 14:30\n",
      "biology 1 - Peter Parker - 115b - 09:00 to 10:30\n",
      "calculus 1 - Chu Yen - 115a - 15:30 to 16:30\n",
      "\n",
      "WED\n",
      "-----\n",
      "chemistry - Peter Parker - 201 - 11:00 to 12:30\n",
      "biology 2 - Peter Parker - 115b - 09:00 to 10:00\n",
      "calculus 1 - Chu Yen - 115b - 13:00 to 14:00\n",
      "\n",
      "THUR\n",
      "-----\n",
      "biochemistry - Peter Parker - 666 - 09:00 to 10:30\n",
      "biology 1 - Peter Parker - 115b - 10:30 to 12:00\n",
      "biology 2 - Peter Parker - 655 - 12:00 to 13:00\n",
      "calculus 1 - Chu Yen - 115b - 13:00 to 14:00\n",
      "\n",
      "FRI\n",
      "-----\n",
      "physics - Brian K. Dickson - 745b - 09:30 to 10:30\n",
      "molecular biology - Peter Parker - 115a - 09:30 to 10:30\n",
      "calculus 4 - Lisa Mullen - 433 - 10:00 to 11:00\n",
      "astrophysics - Simon Valinski - 201 - 16:00 to 17:00\n",
      "\n"
     ]
    }
   ],
   "source": [
    "#run this cell (shitf + enter)\n",
    "#we compute the class schedule and show it below\n",
    "full_schedule = CRPassign()\n",
    "weekdays = ['mon','tues','wed','thur','fri']\n",
    "for day in weekdays:\n",
    "    schedule = full_schedule[day]\n",
    "    print(day.upper())\n",
    "    print('-----')\n",
    "    for var,val in schedule.items():\n",
    "        course,professor = var\n",
    "        room,start_time = val\n",
    "        print(\"%s - %s - %s - %s\" % (course, professor, room, time_formatter(course,start_time)))\n",
    "    print('')"
   ]
  },
  {
   "cell_type": "code",
   "execution_count": null,
   "metadata": {},
   "outputs": [],
   "source": []
  }
 ],
 "metadata": {
  "kernelspec": {
   "display_name": "Python 3",
   "language": "python",
   "name": "python3"
  },
  "language_info": {
   "codemirror_mode": {
    "name": "ipython",
    "version": 3
   },
   "file_extension": ".py",
   "mimetype": "text/x-python",
   "name": "python",
   "nbconvert_exporter": "python",
   "pygments_lexer": "ipython3",
   "version": "3.6.2"
  }
 },
 "nbformat": 4,
 "nbformat_minor": 2
}
