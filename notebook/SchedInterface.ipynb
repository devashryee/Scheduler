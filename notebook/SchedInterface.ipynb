{
 "cells": [
  {
   "cell_type": "markdown",
   "metadata": {},
   "source": [
    "# Welcome to Scheduler!\n",
    "\n",
    "### Getting started\n",
    "To begin please choose a method for loading data. Option A lets you load an excel spreadsheet with your own data. Option B loads some sample data for you to see the process."
   ]
  },
  {
   "cell_type": "markdown",
   "metadata": {},
   "source": [
    "First we ought to get into the correct directory:"
   ]
  },
  {
   "cell_type": "code",
   "execution_count": 1,
   "metadata": {},
   "outputs": [
    {
     "name": "stdout",
     "output_type": "stream",
     "text": [
      "C:\\Users\\James\\Documents\\GitHub\\Scheduler\\scheduler\n"
     ]
    }
   ],
   "source": [
    "cd ../scheduler"
   ]
  },
  {
   "cell_type": "markdown",
   "metadata": {},
   "source": [
    "In case you haven't installed the pandas or xlrd packages, the next cell will install them:"
   ]
  },
  {
   "cell_type": "code",
   "execution_count": 2,
   "metadata": {},
   "outputs": [
    {
     "name": "stderr",
     "output_type": "stream",
     "text": [
      "'pip3' is not recognized as an internal or external command,\n",
      "operable program or batch file.\n",
      "'pip3' is not recognized as an internal or external command,\n",
      "operable program or batch file.\n"
     ]
    }
   ],
   "source": [
    "!pip3 install pandas\n",
    "!pip3 install xlrd"
   ]
  },
  {
   "cell_type": "markdown",
   "metadata": {},
   "source": [
    "### Option A\n",
    "\n",
    "*So let's cut the A and B options and just use A!*\n",
    "\n",
    "Here we will be loading from the excel file 'my_data.xl' which you can download, edit with spreadsheet software and reupload here. When you have done this please run the cell below. "
   ]
  },
  {
   "cell_type": "code",
   "execution_count": 3,
   "metadata": {},
   "outputs": [
    {
     "name": "stdout",
     "output_type": "stream",
     "text": [
      "Data loaded successfully!\n"
     ]
    }
   ],
   "source": [
    "\n",
    "import pandas as pd\n",
    "from IPython.display import display \n",
    "\n",
    "df = pd.read_excel('my_data.xlsx')\n",
    "\n",
    "prof_df = df.iloc[:,0:4]\n",
    "prof_df['prof_courses'] = prof_df['prof_courses'].str.replace(', ',',')\n",
    "rooms_df = df.iloc[:,4:6]\n",
    "rooms_df.dropna(inplace=True)\n",
    "rooms_df['room_capacity'] = rooms_df['room_capacity'].astype(u'int8')\n",
    "rooms_df['rooms'] = rooms_df['rooms'].astype('str')\n",
    "courses_df = df.iloc[:,6:]\n",
    "courses_df.dropna(inplace=True)\n",
    "\n",
    "professors = []\n",
    "prof_info = {}\n",
    "for index, row in prof_df.iterrows():\n",
    "        data = {}\n",
    "        prof = row['professor']\n",
    "        professors.append(prof)\n",
    "        courses = row['prof_courses'].split(',')\n",
    "        data['courses'] = courses\n",
    "        data['start_time'] = row['prof_start_time']\n",
    "        data['end_time'] = row['prof_end_time']\n",
    "        prof_info[prof] = data\n",
    "        \n",
    "rooms = []\n",
    "room_capacities = {}\n",
    "for _, row in rooms_df.iterrows():\n",
    "    room = row['rooms']\n",
    "    room_capacities[room] = row['room_capacity']\n",
    "    rooms.append(room)\n",
    "\n",
    "courses = []\n",
    "course_no_students = {}\n",
    "course_mins = {}\n",
    "course_days_weekly = {}\n",
    "for _, row in courses_df.iterrows():\n",
    "    course = row['course']\n",
    "    courses.append(course)\n",
    "    course_no_students[course] = int(row['course_no_students'])\n",
    "    course_mins[course] = int(row['course_mins'])\n",
    "    course_days_weekly[course] = int(row['course_days_weekly'])\n",
    "print(\"Data loaded successfully!\")"
   ]
  },
  {
   "cell_type": "markdown",
   "metadata": {},
   "source": [
    "Before continuing you may check that the courses, professors and classrooms listed below are correct."
   ]
  },
  {
   "cell_type": "code",
   "execution_count": 4,
   "metadata": {},
   "outputs": [
    {
     "name": "stdout",
     "output_type": "stream",
     "text": [
      "John Smith\n",
      "Lisa Jones\n",
      "Tim Simpson\n",
      "Simon Valinski\n",
      "Lisa Mullen\n",
      "Jamir Abdullah'\n",
      "Mike Williams\n",
      "Rachel Smith\n",
      "Gregg Woods\n",
      "Chu Yen\n",
      "Peter Parker\n",
      "Elizabeth Walker\n",
      "Brian K. Dickson\n"
     ]
    }
   ],
   "source": [
    "print('\\n'.join(professors))"
   ]
  },
  {
   "cell_type": "code",
   "execution_count": 5,
   "metadata": {},
   "outputs": [
    {
     "name": "stdout",
     "output_type": "stream",
     "text": [
      "655\n",
      "666\n",
      "745a\n",
      "745b\n",
      "433\n",
      "201\n",
      "115a\n",
      "115b\n"
     ]
    }
   ],
   "source": [
    "print('\\n'.join(rooms))"
   ]
  },
  {
   "cell_type": "code",
   "execution_count": 6,
   "metadata": {},
   "outputs": [
    {
     "name": "stdout",
     "output_type": "stream",
     "text": [
      "physics\n",
      "astrophysics\n",
      "calculus 1\n",
      "calculus 4\n",
      "biology 1\n",
      "biology 2\n",
      "molecular biology\n",
      "biochemistry\n",
      "chemistry\n"
     ]
    }
   ],
   "source": [
    "print('\\n'.join(courses))"
   ]
  },
  {
   "cell_type": "markdown",
   "metadata": {},
   "source": [
    "### Option B\n",
    "Run the cell below (shift + enter) to create the sample data we need. This will take data from datamaker.py (which is the file  where you can add/edit/remove classes, teachers, classrooms; and exports that data into a file called sample_data.txt to be used."
   ]
  },
  {
   "cell_type": "code",
   "execution_count": 7,
   "metadata": {},
   "outputs": [],
   "source": [
    "import json\n",
    "import datamaker\n",
    "\n",
    "datamaker.make_data()"
   ]
  },
  {
   "cell_type": "markdown",
   "metadata": {},
   "source": [
    "Now we load the created data into our program (run the cell below)"
   ]
  },
  {
   "cell_type": "code",
   "execution_count": 8,
   "metadata": {},
   "outputs": [],
   "source": [
    "input_file = \"sample_data.txt\"\n",
    "with open(input_file,'r') as f:\n",
    "    data = json.load(f)\n",
    "    \n",
    "professors = data['professors']\n",
    "prof_info = data['prof_info']\n",
    "rooms = data['rooms']\n",
    "room_capacities = data['room_capacities']\n",
    "courses = data['courses']\n",
    "course_no_students = data['course_no_students']\n",
    "course_mins = data['course_mins']\n",
    "course_days_weekly = data['course_days_weekly']"
   ]
  },
  {
   "cell_type": "markdown",
   "metadata": {},
   "source": [
    "The data is ready to use. \n",
    "\n",
    "Running the cell below shows us a list of available professors"
   ]
  },
  {
   "cell_type": "code",
   "execution_count": 9,
   "metadata": {
    "scrolled": true
   },
   "outputs": [
    {
     "name": "stdout",
     "output_type": "stream",
     "text": [
      "John Smith\n",
      "Lisa Jones\n",
      "Mike Williams\n",
      "Tim Simpson\n",
      "Rachel Smith\n",
      "Gregg Woods\n",
      "Simon Valinski\n",
      "Chu Yen\n",
      "Peter Parker\n",
      "Lisa Mullen\n",
      "Elizabeth Walker\n",
      "Brian K. Dickson\n",
      "Jamir Abdullah\n"
     ]
    }
   ],
   "source": [
    "print('\\n'.join(professors))"
   ]
  },
  {
   "cell_type": "markdown",
   "metadata": {},
   "source": [
    "Similarly, run the cell below to see a list of rooms"
   ]
  },
  {
   "cell_type": "code",
   "execution_count": 10,
   "metadata": {
    "scrolled": false
   },
   "outputs": [
    {
     "name": "stdout",
     "output_type": "stream",
     "text": [
      "655\n",
      "666\n",
      "745a\n",
      "745b\n",
      "433\n",
      "201\n",
      "115a\n",
      "115b\n"
     ]
    }
   ],
   "source": [
    "print('\\n'.join(rooms))"
   ]
  },
  {
   "cell_type": "markdown",
   "metadata": {},
   "source": [
    "And finally do the same for the list of courses"
   ]
  },
  {
   "cell_type": "code",
   "execution_count": 11,
   "metadata": {},
   "outputs": [
    {
     "name": "stdout",
     "output_type": "stream",
     "text": [
      "physics\n",
      "chemistry\n",
      "biochemistry\n",
      "biology 1\n",
      "biology 2\n",
      "molecular biology\n",
      "calculus 1\n",
      "calculus 4\n",
      "astrophysics\n"
     ]
    }
   ],
   "source": [
    "print('\\n'.join(courses))"
   ]
  },
  {
   "cell_type": "markdown",
   "metadata": {},
   "source": [
    "The scheduler program will take the courses shown above and find a professor, classroom and time for them."
   ]
  },
  {
   "cell_type": "markdown",
   "metadata": {},
   "source": [
    "### Scheduling the Teachers, Courses and Classrooms "
   ]
  },
  {
   "cell_type": "markdown",
   "metadata": {},
   "source": [
    "Run the following two cells"
   ]
  },
  {
   "cell_type": "code",
   "execution_count": 12,
   "metadata": {},
   "outputs": [],
   "source": [
    "from teachercourse_csp import assigner"
   ]
  },
  {
   "cell_type": "code",
   "execution_count": 13,
   "metadata": {},
   "outputs": [],
   "source": [
    "def time_formatter(course, start_time):\n",
    "    hs,ms = start_time\n",
    "    end = hs*6 + ms//10 + course_mins[course]//10\n",
    "    end_time = (end//6, (end - (end // 6) * 6) * 10)\n",
    "    he,me = end_time\n",
    "    output = '{:0>2}'.format(hs)+':'+'{:0>2}'.format(ms)+' to ' + '{:0>2}'.format(he)+':'+ '{:0>2}'.format(me) \n",
    "    return output"
   ]
  },
  {
   "cell_type": "markdown",
   "metadata": {},
   "source": [
    "Now we are ready to compute the class schedule and display it below\n"
   ]
  },
  {
   "cell_type": "code",
   "execution_count": 14,
   "metadata": {},
   "outputs": [
    {
     "ename": "UnboundLocalError",
     "evalue": "local variable 'min_conflicted' referenced before assignment",
     "output_type": "error",
     "traceback": [
      "\u001b[1;31m---------------------------------------------------------------------------\u001b[0m",
      "\u001b[1;31mUnboundLocalError\u001b[0m                         Traceback (most recent call last)",
      "\u001b[1;32m<ipython-input-14-802af0e86c7a>\u001b[0m in \u001b[0;36m<module>\u001b[1;34m\u001b[0m\n\u001b[0;32m      1\u001b[0m \u001b[0muser_data\u001b[0m \u001b[1;33m=\u001b[0m \u001b[1;33m(\u001b[0m\u001b[0mprofessors\u001b[0m\u001b[1;33m,\u001b[0m\u001b[0mprof_info\u001b[0m\u001b[1;33m,\u001b[0m\u001b[0mrooms\u001b[0m\u001b[1;33m,\u001b[0m\u001b[0mroom_capacities\u001b[0m\u001b[1;33m,\u001b[0m\u001b[0mcourses\u001b[0m\u001b[1;33m,\u001b[0m\u001b[0mcourse_no_students\u001b[0m\u001b[1;33m,\u001b[0m\u001b[0mcourse_mins\u001b[0m\u001b[1;33m,\u001b[0m\u001b[0mcourse_days_weekly\u001b[0m\u001b[1;33m)\u001b[0m\u001b[1;33m\u001b[0m\u001b[0m\n\u001b[1;32m----> 2\u001b[1;33m \u001b[0mfull_schedule\u001b[0m \u001b[1;33m=\u001b[0m \u001b[0massigner\u001b[0m\u001b[1;33m(\u001b[0m\u001b[0muser_data\u001b[0m\u001b[1;33m)\u001b[0m\u001b[1;33m\u001b[0m\u001b[0m\n\u001b[0m\u001b[0;32m      3\u001b[0m \u001b[0mweekdays\u001b[0m \u001b[1;33m=\u001b[0m \u001b[1;33m[\u001b[0m\u001b[1;34m'mon'\u001b[0m\u001b[1;33m,\u001b[0m\u001b[1;34m'tues'\u001b[0m\u001b[1;33m,\u001b[0m\u001b[1;34m'wed'\u001b[0m\u001b[1;33m,\u001b[0m\u001b[1;34m'thur'\u001b[0m\u001b[1;33m,\u001b[0m\u001b[1;34m'fri'\u001b[0m\u001b[1;33m]\u001b[0m\u001b[1;33m\u001b[0m\u001b[0m\n\u001b[0;32m      4\u001b[0m \u001b[1;33m\u001b[0m\u001b[0m\n\u001b[0;32m      5\u001b[0m \u001b[0mcolumns\u001b[0m \u001b[1;33m=\u001b[0m \u001b[1;33m[\u001b[0m\u001b[1;34m'Day'\u001b[0m\u001b[1;33m,\u001b[0m\u001b[1;34m'Course'\u001b[0m\u001b[1;33m,\u001b[0m\u001b[1;34m'Professor'\u001b[0m\u001b[1;33m,\u001b[0m \u001b[1;34m'Room'\u001b[0m\u001b[1;33m,\u001b[0m\u001b[1;34m'Period'\u001b[0m\u001b[1;33m]\u001b[0m\u001b[1;33m\u001b[0m\u001b[0m\n",
      "\u001b[1;32m~\\Documents\\GitHub\\Scheduler\\scheduler\\teachercourse_csp.py\u001b[0m in \u001b[0;36massigner\u001b[1;34m(user_data)\u001b[0m\n\u001b[0;32m    170\u001b[0m             \u001b[0madd_binary\u001b[0m\u001b[1;33m(\u001b[0m\u001b[1;33m)\u001b[0m\u001b[1;33m\u001b[0m\u001b[0m\n\u001b[0;32m    171\u001b[0m             \u001b[0mminconf\u001b[0m \u001b[1;33m=\u001b[0m \u001b[0mminConflicts\u001b[0m\u001b[1;33m(\u001b[0m\u001b[0mcsp\u001b[0m\u001b[1;33m)\u001b[0m\u001b[1;33m\u001b[0m\u001b[0m\n\u001b[1;32m--> 172\u001b[1;33m             \u001b[0msolved\u001b[0m \u001b[1;33m=\u001b[0m \u001b[0mminconf\u001b[0m\u001b[1;33m.\u001b[0m\u001b[0msolve\u001b[0m\u001b[1;33m(\u001b[0m\u001b[0mmax_iters\u001b[0m\u001b[1;33m)\u001b[0m\u001b[1;33m\u001b[0m\u001b[0m\n\u001b[0m\u001b[0;32m    173\u001b[0m             \u001b[1;32mif\u001b[0m \u001b[0msolved\u001b[0m \u001b[1;32mis\u001b[0m \u001b[1;32mNone\u001b[0m\u001b[1;33m:\u001b[0m\u001b[1;33m\u001b[0m\u001b[0m\n\u001b[0;32m    174\u001b[0m                 \u001b[0mretries\u001b[0m \u001b[1;33m+=\u001b[0m \u001b[1;36m1\u001b[0m\u001b[1;33m\u001b[0m\u001b[0m\n",
      "\u001b[1;32m~\\Documents\\GitHub\\Scheduler\\scheduler\\cspsolver.py\u001b[0m in \u001b[0;36msolve\u001b[1;34m(self, max_iters)\u001b[0m\n\u001b[0;32m    162\u001b[0m                 \u001b[0massignments_cpy\u001b[0m\u001b[1;33m[\u001b[0m\u001b[0mnode\u001b[0m\u001b[1;33m]\u001b[0m \u001b[1;33m=\u001b[0m \u001b[0mu\u001b[0m\u001b[1;33m\u001b[0m\u001b[0m\n\u001b[0;32m    163\u001b[0m                 \u001b[0mc\u001b[0m\u001b[1;33m,\u001b[0m \u001b[0mw\u001b[0m \u001b[1;33m=\u001b[0m \u001b[0mself\u001b[0m\u001b[1;33m.\u001b[0m\u001b[0mconflicted_neighbors\u001b[0m\u001b[1;33m(\u001b[0m\u001b[0massignments_cpy\u001b[0m\u001b[1;33m,\u001b[0m \u001b[0mnode\u001b[0m\u001b[1;33m)\u001b[0m\u001b[1;33m\u001b[0m\u001b[0m\n\u001b[1;32m--> 164\u001b[1;33m                 \u001b[1;32mif\u001b[0m \u001b[0mlen\u001b[0m\u001b[1;33m(\u001b[0m\u001b[0mc\u001b[0m\u001b[1;33m)\u001b[0m \u001b[1;33m<\u001b[0m \u001b[0mmin_conflicted\u001b[0m\u001b[1;33m:\u001b[0m\u001b[1;33m\u001b[0m\u001b[0m\n\u001b[0m\u001b[0;32m    165\u001b[0m                     \u001b[0massignments\u001b[0m \u001b[1;33m=\u001b[0m \u001b[0massignments_cpy\u001b[0m\u001b[1;33m\u001b[0m\u001b[0m\n\u001b[0;32m    166\u001b[0m                     \u001b[0mmin_conflicted\u001b[0m \u001b[1;33m=\u001b[0m \u001b[0mlen\u001b[0m\u001b[1;33m(\u001b[0m\u001b[0mc\u001b[0m\u001b[1;33m)\u001b[0m\u001b[1;33m\u001b[0m\u001b[0m\n",
      "\u001b[1;31mUnboundLocalError\u001b[0m: local variable 'min_conflicted' referenced before assignment"
     ]
    }
   ],
   "source": [
    "user_data = (professors,prof_info,rooms,room_capacities,courses,course_no_students,course_mins,course_days_weekly)\n",
    "full_schedule = assigner(user_data)\n",
    "weekdays = ['mon','tues','wed','thur','fri']\n",
    "\n",
    "columns = ['Day','Course','Professor', 'Room','Period']\n",
    "df_out = pd.DataFrame(None, columns=columns)\n",
    "for day in weekdays:\n",
    "    schedule = full_schedule[day]\n",
    "    print(day.upper())\n",
    "    print('-----')\n",
    "    for var,val in schedule.items():\n",
    "        course,professor = var\n",
    "        room,start_time = val\n",
    "        df_inc = {'Day':day,'Course':[course],'Professor':[professor], 'Room':[room],'Period':[time_formatter(course,start_time)]}\n",
    "        df_inc = pd.DataFrame.from_dict(df_inc)\n",
    "        df_out = pd.concat([df_out,df_inc],ignore_index=True)\n",
    "    print('')"
   ]
  },
  {
   "cell_type": "code",
   "execution_count": 15,
   "metadata": {},
   "outputs": [
    {
     "ename": "NameError",
     "evalue": "name 'df_out' is not defined",
     "output_type": "error",
     "traceback": [
      "\u001b[1;31m---------------------------------------------------------------------------\u001b[0m",
      "\u001b[1;31mNameError\u001b[0m                                 Traceback (most recent call last)",
      "\u001b[1;32m<ipython-input-15-641372463901>\u001b[0m in \u001b[0;36m<module>\u001b[1;34m\u001b[0m\n\u001b[1;32m----> 1\u001b[1;33m \u001b[0mdisplay\u001b[0m\u001b[1;33m(\u001b[0m\u001b[0mdf_out\u001b[0m\u001b[1;33m)\u001b[0m\u001b[1;33m\u001b[0m\u001b[0m\n\u001b[0m",
      "\u001b[1;31mNameError\u001b[0m: name 'df_out' is not defined"
     ]
    }
   ],
   "source": [
    "display(df_out)"
   ]
  },
  {
   "cell_type": "code",
   "execution_count": null,
   "metadata": {},
   "outputs": [],
   "source": []
  }
 ],
 "metadata": {
  "kernelspec": {
   "display_name": "Python 3",
   "language": "python",
   "name": "python3"
  },
  "language_info": {
   "codemirror_mode": {
    "name": "ipython",
    "version": 3
   },
   "file_extension": ".py",
   "mimetype": "text/x-python",
   "name": "python",
   "nbconvert_exporter": "python",
   "pygments_lexer": "ipython3",
   "version": "3.6.0"
  }
 },
 "nbformat": 4,
 "nbformat_minor": 2
}
