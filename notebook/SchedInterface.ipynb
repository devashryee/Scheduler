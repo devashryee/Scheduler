{
 "cells": [
  {
   "cell_type": "markdown",
   "metadata": {},
   "source": [
    "# Welcome to Scheduler!\n",
    "\n",
    "### Getting started\n",
    "To begin please choose a method for loading data. Option A lets you load an excel spreadsheet with your own data. Option B loads some sample data for you to see the process."
   ]
  },
  {
   "cell_type": "markdown",
   "metadata": {},
   "source": [
    "First we ought to get into the correct directory:"
   ]
  },
  {
   "cell_type": "code",
   "execution_count": 1,
   "metadata": {},
   "outputs": [
    {
     "name": "stdout",
     "output_type": "stream",
     "text": [
      "/Users/gcallah/GitProjects/Scheduler/scheduler\n"
     ]
    }
   ],
   "source": [
    "cd ../scheduler"
   ]
  },
  {
   "cell_type": "markdown",
   "metadata": {},
   "source": [
    "In case you haven't installed the pandas or xlrd packages, the next cell will install them:"
   ]
  },
  {
   "cell_type": "code",
   "execution_count": 2,
   "metadata": {},
   "outputs": [
    {
     "name": "stdout",
     "output_type": "stream",
     "text": [
      "Requirement already satisfied: pandas in /Library/Frameworks/Python.framework/Versions/3.6/lib/python3.6/site-packages (0.24.2)\n",
      "Requirement already satisfied: python-dateutil>=2.5.0 in /Library/Frameworks/Python.framework/Versions/3.6/lib/python3.6/site-packages (from pandas) (2.6.1)\n",
      "Requirement already satisfied: pytz>=2011k in /Library/Frameworks/Python.framework/Versions/3.6/lib/python3.6/site-packages (from pandas) (2017.2)\n",
      "Requirement already satisfied: numpy>=1.12.0 in /Library/Frameworks/Python.framework/Versions/3.6/lib/python3.6/site-packages (from pandas) (1.13.1)\n",
      "Requirement already satisfied: six>=1.5 in /Library/Frameworks/Python.framework/Versions/3.6/lib/python3.6/site-packages (from python-dateutil>=2.5.0->pandas) (1.12.0)\n",
      "\u001b[33mWARNING: You are using pip version 19.1.1, however version 19.2.3 is available.\n",
      "You should consider upgrading via the 'pip install --upgrade pip' command.\u001b[0m\n",
      "Requirement already satisfied: xlrd in /Library/Frameworks/Python.framework/Versions/3.6/lib/python3.6/site-packages (1.2.0)\n",
      "\u001b[33mWARNING: You are using pip version 19.1.1, however version 19.2.3 is available.\n",
      "You should consider upgrading via the 'pip install --upgrade pip' command.\u001b[0m\n"
     ]
    }
   ],
   "source": [
    "!pip3 install pandas\n",
    "!pip3 install xlrd"
   ]
  },
  {
   "cell_type": "markdown",
   "metadata": {},
   "source": [
    "### Option A\n",
    "\n",
    "*So let's cut the A and B options and just use A!*\n",
    "\n",
    "Here we will be loading from the excel file 'my_data.xl' which you can download, edit with spreadsheet software and reupload here. When you have done this please run the cell below. "
   ]
  },
  {
   "cell_type": "code",
   "execution_count": 7,
   "metadata": {},
   "outputs": [
    {
     "name": "stdout",
     "output_type": "stream",
     "text": [
      "Data loaded successfully!\n"
     ]
    }
   ],
   "source": [
    "\n",
    "import pandas as pd\n",
    "from IPython.display import display \n",
    "\n",
    "df = pd.read_excel('my_data.xlsx')\n",
    "\n",
    "prof_df = df.iloc[:,0:4]\n",
    "prof_df['prof_courses'] = prof_df['prof_courses'].str.replace(', ',',')\n",
    "rooms_df = df.iloc[:,4:6]\n",
    "rooms_df.dropna(inplace=True)\n",
    "rooms_df['room_capacity'] = rooms_df['room_capacity'].astype(u'int8')\n",
    "rooms_df['rooms'] = rooms_df['rooms'].astype('str')\n",
    "courses_df = df.iloc[:,6:]\n",
    "courses_df.dropna(inplace=True)\n",
    "\n",
    "professors = []\n",
    "prof_info = {}\n",
    "for index, row in prof_df.iterrows():\n",
    "        data = {}\n",
    "        prof = row['professor']\n",
    "        professors.append(prof)\n",
    "        courses = row['prof_courses'].split(',')\n",
    "        data['courses'] = courses\n",
    "        data['start_time'] = row['prof_start_time']\n",
    "        data['end_time'] = row['prof_end_time']\n",
    "        prof_info[prof] = data\n",
    "        \n",
    "rooms = []\n",
    "room_capacities = {}\n",
    "for _, row in rooms_df.iterrows():\n",
    "    room = row['rooms']\n",
    "    room_capacities[room] = row['room_capacity']\n",
    "    rooms.append(room)\n",
    "\n",
    "courses = []\n",
    "course_no_students = {}\n",
    "course_mins = {}\n",
    "course_days_weekly = {}\n",
    "for _, row in courses_df.iterrows():\n",
    "    course = row['course']\n",
    "    courses.append(course)\n",
    "    course_no_students[course] = int(row['course_no_students'])\n",
    "    course_mins[course] = int(row['course_mins'])\n",
    "    course_days_weekly[course] = int(row['course_days_weekly'])\n",
    "print(\"Data loaded successfully!\")"
   ]
  },
  {
   "cell_type": "markdown",
   "metadata": {},
   "source": [
    "Before continuing you may check that the courses, professors and classrooms listed below are correct."
   ]
  },
  {
   "cell_type": "code",
   "execution_count": 5,
   "metadata": {},
   "outputs": [
    {
     "name": "stdout",
     "output_type": "stream",
     "text": [
      "John Smith\n",
      "Lisa Jones\n",
      "Tim Simpson\n",
      "Simon Valinski\n",
      "Lisa Mullen\n",
      "Jamir Abdullah'\n",
      "Mike Williams\n",
      "Rachel Smith\n",
      "Gregg Woods\n",
      "Chu Yen\n",
      "Peter Parker\n",
      "Elizabeth Walker\n",
      "Brian K. Dickson\n"
     ]
    }
   ],
   "source": [
    "print('\\n'.join(professors))"
   ]
  },
  {
   "cell_type": "code",
   "execution_count": 5,
   "metadata": {},
   "outputs": [
    {
     "name": "stdout",
     "output_type": "stream",
     "text": [
      "655\n",
      "666\n",
      "745a\n",
      "745b\n",
      "433\n",
      "201\n",
      "115a\n",
      "115b\n"
     ]
    }
   ],
   "source": [
    "print('\\n'.join(rooms))"
   ]
  },
  {
   "cell_type": "code",
   "execution_count": 6,
   "metadata": {},
   "outputs": [
    {
     "name": "stdout",
     "output_type": "stream",
     "text": [
      "physics\n",
      "astrophysics\n",
      "caculus 1\n",
      "calculus 4\n",
      "biology 1\n",
      "biology 2\n",
      "molecular biology\n",
      "biochemistry\n",
      "chemistry\n"
     ]
    }
   ],
   "source": [
    "print('\\n'.join(courses))"
   ]
  },
  {
   "cell_type": "markdown",
   "metadata": {},
   "source": [
    "### Option B\n",
    "Run the cell below (shift + enter) to create the sample data we need. This will take data from datamaker.py (which is the file  where you can add/edit/remove classes, teachers, classrooms; and exports that data into a file called sample_data.txt to be used."
   ]
  },
  {
   "cell_type": "code",
   "execution_count": 3,
   "metadata": {},
   "outputs": [],
   "source": [
    "import json\n",
    "import datamaker\n",
    "\n",
    "datamaker.make_data()"
   ]
  },
  {
   "cell_type": "markdown",
   "metadata": {},
   "source": [
    "Now we load the created data into our program (run the cell below)"
   ]
  },
  {
   "cell_type": "code",
   "execution_count": 4,
   "metadata": {},
   "outputs": [],
   "source": [
    "input_file = \"sample_data.txt\"\n",
    "with open(input_file,'r') as f:\n",
    "    data = json.load(f)\n",
    "    \n",
    "professors = data['professors']\n",
    "prof_info = data['prof_info']\n",
    "rooms = data['rooms']\n",
    "room_capacities = data['room_capacities']\n",
    "courses = data['courses']\n",
    "course_no_students = data['course_no_students']\n",
    "course_mins = data['course_mins']\n",
    "course_days_weekly = data['course_days_weekly']"
   ]
  },
  {
   "cell_type": "markdown",
   "metadata": {},
   "source": [
    "The data is ready to use. \n",
    "\n",
    "Running the cell below shows us a list of available professors"
   ]
  },
  {
   "cell_type": "code",
   "execution_count": 5,
   "metadata": {
    "scrolled": true
   },
   "outputs": [
    {
     "name": "stdout",
     "output_type": "stream",
     "text": [
      "John Smith\n",
      "Lisa Jones\n",
      "Mike Williams\n",
      "Tim Simpson\n",
      "Rachel Smith\n",
      "Gregg Woods\n",
      "Simon Valinski\n",
      "Chu Yen\n",
      "Peter Parker\n",
      "Lisa Mullen\n",
      "Elizabeth Walker\n",
      "Brian K. Dickson\n",
      "Jamir Abdullah\n"
     ]
    }
   ],
   "source": [
    "print('\\n'.join(professors))"
   ]
  },
  {
   "cell_type": "markdown",
   "metadata": {},
   "source": [
    "Similarly, run the cell below to see a list of rooms"
   ]
  },
  {
   "cell_type": "code",
   "execution_count": 6,
   "metadata": {
    "scrolled": false
   },
   "outputs": [
    {
     "name": "stdout",
     "output_type": "stream",
     "text": [
      "655\n",
      "666\n",
      "745a\n",
      "745b\n",
      "433\n",
      "201\n",
      "115a\n",
      "115b\n"
     ]
    }
   ],
   "source": [
    "print('\\n'.join(rooms))"
   ]
  },
  {
   "cell_type": "markdown",
   "metadata": {},
   "source": [
    "And finally do the same for the list of courses"
   ]
  },
  {
   "cell_type": "code",
   "execution_count": 7,
   "metadata": {},
   "outputs": [
    {
     "name": "stdout",
     "output_type": "stream",
     "text": [
      "physics\n",
      "chemistry\n",
      "biochemistry\n",
      "biology 1\n",
      "biology 2\n",
      "molecular biology\n",
      "calculus 1\n",
      "calculus 4\n",
      "astrophysics\n"
     ]
    }
   ],
   "source": [
    "print('\\n'.join(courses))"
   ]
  },
  {
   "cell_type": "markdown",
   "metadata": {},
   "source": [
    "The scheduler program will take the courses shown above and find a professor, classroom and time for them."
   ]
  },
  {
   "cell_type": "markdown",
   "metadata": {},
   "source": [
    "### Scheduling the Teachers, Courses and Classrooms "
   ]
  },
  {
   "cell_type": "markdown",
   "metadata": {},
   "source": [
    "Run the following two cells"
   ]
  },
  {
   "cell_type": "code",
   "execution_count": 8,
   "metadata": {},
   "outputs": [],
   "source": [
    "from teachercourse_csp import assigner"
   ]
  },
  {
   "cell_type": "code",
   "execution_count": 9,
   "metadata": {},
   "outputs": [],
   "source": [
    "def time_formatter(course, start_time):\n",
    "    hs,ms = start_time\n",
    "    end = hs*6 + ms//10 + course_mins[course]//10\n",
    "    end_time = (end//6, (end - (end // 6) * 6) * 10)\n",
    "    he,me = end_time\n",
    "    output = '{:0>2}'.format(hs)+':'+'{:0>2}'.format(ms)+' to ' + '{:0>2}'.format(he)+':'+ '{:0>2}'.format(me) \n",
    "    return output"
   ]
  },
  {
   "cell_type": "markdown",
   "metadata": {},
   "source": [
    "Now we are ready to compute the class schedule and display it below\n"
   ]
  },
  {
   "cell_type": "code",
   "execution_count": 44,
   "metadata": {},
   "outputs": [
    {
     "name": "stdout",
     "output_type": "stream",
     "text": [
      "MON\n",
      "-----\n",
      "\n",
      "TUES\n",
      "-----\n",
      "\n",
      "WED\n",
      "-----\n",
      "\n",
      "THUR\n",
      "-----\n",
      "\n",
      "FRI\n",
      "-----\n",
      "\n"
     ]
    }
   ],
   "source": [
    "user_data = (professors,prof_info,rooms,room_capacities,courses,course_no_students,course_mins,course_days_weekly)\n",
    "full_schedule = assigner(user_data)\n",
    "weekdays = ['mon','tues','wed','thur','fri']\n",
    "\n",
    "columns = ['Day','Course','Professor', 'Room','Period']\n",
    "df_out = pd.DataFrame(None, columns=columns)\n",
    "for day in weekdays:\n",
    "    schedule = full_schedule[day]\n",
    "    print(day.upper())\n",
    "    print('-----')\n",
    "    for var,val in schedule.items():\n",
    "        course,professor = var\n",
    "        room,start_time = val\n",
    "        df_inc = {'Day':day,'Course':[course],'Professor':[professor], 'Room':[room],'Period':[time_formatter(course,start_time)]}\n",
    "        df_inc = pd.DataFrame.from_dict(df_inc)\n",
    "        df_out = pd.concat([df_out,df_inc],ignore_index=True)\n",
    "    print('')"
   ]
  },
  {
   "cell_type": "code",
   "execution_count": 38,
   "metadata": {},
   "outputs": [
    {
     "data": {
      "text/html": [
       "<div>\n",
       "<style scoped>\n",
       "    .dataframe tbody tr th:only-of-type {\n",
       "        vertical-align: middle;\n",
       "    }\n",
       "\n",
       "    .dataframe tbody tr th {\n",
       "        vertical-align: top;\n",
       "    }\n",
       "\n",
       "    .dataframe thead th {\n",
       "        text-align: right;\n",
       "    }\n",
       "</style>\n",
       "<table border=\"1\" class=\"dataframe\">\n",
       "  <thead>\n",
       "    <tr style=\"text-align: right;\">\n",
       "      <th></th>\n",
       "      <th>Day</th>\n",
       "      <th>Course</th>\n",
       "      <th>Professor</th>\n",
       "      <th>Room</th>\n",
       "      <th>Period</th>\n",
       "    </tr>\n",
       "  </thead>\n",
       "  <tbody>\n",
       "    <tr>\n",
       "      <th>0</th>\n",
       "      <td>mon</td>\n",
       "      <td>physics</td>\n",
       "      <td>Brian K. Dickson</td>\n",
       "      <td>745b</td>\n",
       "      <td>14:00 to 15:00</td>\n",
       "    </tr>\n",
       "    <tr>\n",
       "      <th>1</th>\n",
       "      <td>mon</td>\n",
       "      <td>calculus 4</td>\n",
       "      <td>Brian K. Dickson</td>\n",
       "      <td>433</td>\n",
       "      <td>16:00 to 17:00</td>\n",
       "    </tr>\n",
       "    <tr>\n",
       "      <th>2</th>\n",
       "      <td>mon</td>\n",
       "      <td>biology 1</td>\n",
       "      <td>Peter Parker</td>\n",
       "      <td>745b</td>\n",
       "      <td>09:00 to 10:30</td>\n",
       "    </tr>\n",
       "    <tr>\n",
       "      <th>3</th>\n",
       "      <td>mon</td>\n",
       "      <td>chemistry</td>\n",
       "      <td>John Smith</td>\n",
       "      <td>115b</td>\n",
       "      <td>09:30 to 11:00</td>\n",
       "    </tr>\n",
       "    <tr>\n",
       "      <th>4</th>\n",
       "      <td>tues</td>\n",
       "      <td>physics</td>\n",
       "      <td>Brian K. Dickson</td>\n",
       "      <td>115b</td>\n",
       "      <td>13:00 to 14:00</td>\n",
       "    </tr>\n",
       "    <tr>\n",
       "      <th>5</th>\n",
       "      <td>tues</td>\n",
       "      <td>biochemistry</td>\n",
       "      <td>Peter Parker</td>\n",
       "      <td>433</td>\n",
       "      <td>09:30 to 11:00</td>\n",
       "    </tr>\n",
       "    <tr>\n",
       "      <th>6</th>\n",
       "      <td>wed</td>\n",
       "      <td>astrophysics</td>\n",
       "      <td>Simon Valinski</td>\n",
       "      <td>655</td>\n",
       "      <td>13:30 to 14:30</td>\n",
       "    </tr>\n",
       "    <tr>\n",
       "      <th>7</th>\n",
       "      <td>wed</td>\n",
       "      <td>calculus 4</td>\n",
       "      <td>Brian K. Dickson</td>\n",
       "      <td>745b</td>\n",
       "      <td>16:30 to 17:30</td>\n",
       "    </tr>\n",
       "    <tr>\n",
       "      <th>8</th>\n",
       "      <td>wed</td>\n",
       "      <td>biology 1</td>\n",
       "      <td>Peter Parker</td>\n",
       "      <td>745b</td>\n",
       "      <td>12:00 to 13:30</td>\n",
       "    </tr>\n",
       "    <tr>\n",
       "      <th>9</th>\n",
       "      <td>wed</td>\n",
       "      <td>biology 2</td>\n",
       "      <td>Rachel Smith</td>\n",
       "      <td>745b</td>\n",
       "      <td>11:00 to 12:00</td>\n",
       "    </tr>\n",
       "    <tr>\n",
       "      <th>10</th>\n",
       "      <td>wed</td>\n",
       "      <td>molecular biology</td>\n",
       "      <td>Peter Parker</td>\n",
       "      <td>745a</td>\n",
       "      <td>11:00 to 12:00</td>\n",
       "    </tr>\n",
       "    <tr>\n",
       "      <th>11</th>\n",
       "      <td>wed</td>\n",
       "      <td>chemistry</td>\n",
       "      <td>John Smith</td>\n",
       "      <td>666</td>\n",
       "      <td>08:30 to 10:00</td>\n",
       "    </tr>\n",
       "    <tr>\n",
       "      <th>12</th>\n",
       "      <td>thur</td>\n",
       "      <td>physics</td>\n",
       "      <td>Brian K. Dickson</td>\n",
       "      <td>745b</td>\n",
       "      <td>12:00 to 13:00</td>\n",
       "    </tr>\n",
       "    <tr>\n",
       "      <th>13</th>\n",
       "      <td>thur</td>\n",
       "      <td>biology 2</td>\n",
       "      <td>Rachel Smith</td>\n",
       "      <td>201</td>\n",
       "      <td>14:30 to 15:30</td>\n",
       "    </tr>\n",
       "    <tr>\n",
       "      <th>14</th>\n",
       "      <td>fri</td>\n",
       "      <td>biology 2</td>\n",
       "      <td>Rachel Smith</td>\n",
       "      <td>201</td>\n",
       "      <td>16:30 to 17:30</td>\n",
       "    </tr>\n",
       "  </tbody>\n",
       "</table>\n",
       "</div>"
      ],
      "text/plain": [
       "     Day             Course         Professor  Room          Period\n",
       "0    mon            physics  Brian K. Dickson  745b  14:00 to 15:00\n",
       "1    mon         calculus 4  Brian K. Dickson   433  16:00 to 17:00\n",
       "2    mon          biology 1      Peter Parker  745b  09:00 to 10:30\n",
       "3    mon          chemistry        John Smith  115b  09:30 to 11:00\n",
       "4   tues            physics  Brian K. Dickson  115b  13:00 to 14:00\n",
       "5   tues       biochemistry      Peter Parker   433  09:30 to 11:00\n",
       "6    wed       astrophysics    Simon Valinski   655  13:30 to 14:30\n",
       "7    wed         calculus 4  Brian K. Dickson  745b  16:30 to 17:30\n",
       "8    wed          biology 1      Peter Parker  745b  12:00 to 13:30\n",
       "9    wed          biology 2      Rachel Smith  745b  11:00 to 12:00\n",
       "10   wed  molecular biology      Peter Parker  745a  11:00 to 12:00\n",
       "11   wed          chemistry        John Smith   666  08:30 to 10:00\n",
       "12  thur            physics  Brian K. Dickson  745b  12:00 to 13:00\n",
       "13  thur          biology 2      Rachel Smith   201  14:30 to 15:30\n",
       "14   fri          biology 2      Rachel Smith   201  16:30 to 17:30"
      ]
     },
     "metadata": {},
     "output_type": "display_data"
    }
   ],
   "source": [
    "display(df_out)"
   ]
  }
 ],
 "metadata": {
  "kernelspec": {
   "display_name": "Python 3",
   "language": "python",
   "name": "python3"
  },
  "language_info": {
   "codemirror_mode": {
    "name": "ipython",
    "version": 3
   },
   "file_extension": ".py",
   "mimetype": "text/x-python",
   "name": "python",
   "nbconvert_exporter": "python",
   "pygments_lexer": "ipython3",
   "version": "3.6.2"
  }
 },
 "nbformat": 4,
 "nbformat_minor": 2
}
