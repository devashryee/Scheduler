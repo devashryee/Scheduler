{
 "cells": [
  {
   "cell_type": "code",
   "execution_count": 2,
   "metadata": {},
   "outputs": [
    {
     "name": "stdout",
     "output_type": "stream",
     "text": [
      "/Users/gcallah/GitProjects/Scheduler/scheduler\n"
     ]
    }
   ],
   "source": [
    "cd ../scheduler"
   ]
  },
  {
   "cell_type": "markdown",
   "metadata": {},
   "source": [
    "# Welcome to Scheduler!\n",
    "\n",
    "### Getting started\n",
    "To begin run the cell below (shift + enter) to create the sample data we need. This will take data from datamaker.py (which is the file  where you can add/edit/remove classes, teachers, classrooms; and exports that data into a file called sample_data.txt to be used."
   ]
  },
  {
   "cell_type": "code",
   "execution_count": 3,
   "metadata": {},
   "outputs": [],
   "source": [
    "import json\n",
    "import datamaker\n",
    "\n",
    "datamaker.make_data()"
   ]
  },
  {
   "cell_type": "markdown",
   "metadata": {},
   "source": [
    "Now we load the created data into our program (run the cell below)"
   ]
  },
  {
   "cell_type": "code",
   "execution_count": 4,
   "metadata": {},
   "outputs": [],
   "source": [
    "input_file = \"sample_data.txt\"\n",
    "with open(input_file,'r') as f:\n",
    "    data = json.load(f)\n",
    "    \n",
    "professors = data['professors']\n",
    "prof_info = data['prof_info']\n",
    "rooms = data['rooms']\n",
    "room_capacities = data['room_capacities']\n",
    "courses = data['courses']\n",
    "course_no_students = data['course_no_students']\n",
    "course_mins = data['course_mins']\n",
    "course_days_weekly = data['course_days_weekly']"
   ]
  },
  {
   "cell_type": "markdown",
   "metadata": {},
   "source": [
    "The data is ready to use. \n",
    "\n",
    "Running the cell below shows us a list of available professors"
   ]
  },
  {
   "cell_type": "code",
   "execution_count": 5,
   "metadata": {},
   "outputs": [
    {
     "name": "stdout",
     "output_type": "stream",
     "text": [
      "John Smith\n",
      "Lisa Jones\n",
      "Mike Williams\n",
      "Tim Simpson\n",
      "Rachel Smith\n",
      "Gregg Woods\n",
      "Simon Valinski\n",
      "Chu Yen\n",
      "Peter Parker\n",
      "Lisa Mullen\n",
      "Elizabeth Walker\n",
      "Brian K. Dickson\n",
      "Jamir Abdullah\n"
     ]
    }
   ],
   "source": [
    "print('\\n'.join(professors))"
   ]
  },
  {
   "cell_type": "markdown",
   "metadata": {},
   "source": [
    "Similarly, run the cell below to see a list of rooms"
   ]
  },
  {
   "cell_type": "code",
   "execution_count": 6,
   "metadata": {},
   "outputs": [
    {
     "name": "stdout",
     "output_type": "stream",
     "text": [
      "655\n",
      "666\n",
      "745a\n",
      "745b\n",
      "433\n",
      "201\n",
      "115a\n",
      "115b\n"
     ]
    }
   ],
   "source": [
    "print('\\n'.join(rooms))"
   ]
  },
  {
   "cell_type": "markdown",
   "metadata": {},
   "source": [
    "And finally do the same for the list of courses"
   ]
  },
  {
   "cell_type": "code",
   "execution_count": 7,
   "metadata": {},
   "outputs": [
    {
     "name": "stdout",
     "output_type": "stream",
     "text": [
      "physics\n",
      "chemistry\n",
      "biochemistry\n",
      "biology 1\n",
      "biology 2\n",
      "molecular biology\n",
      "calculus 1\n",
      "calculus 4\n",
      "astrophysics\n"
     ]
    }
   ],
   "source": [
    "print('\\n'.join(courses))"
   ]
  },
  {
   "cell_type": "markdown",
   "metadata": {},
   "source": [
    "The scheduler program will take the courses shown above and find a professor, classroom and time for them."
   ]
  },
  {
   "cell_type": "markdown",
   "metadata": {},
   "source": [
    "### Scheduling the Teachers, Courses and Classrooms "
   ]
  },
  {
   "cell_type": "markdown",
   "metadata": {},
   "source": [
    "Run the following two cells"
   ]
  },
  {
   "cell_type": "code",
   "execution_count": 8,
   "metadata": {},
   "outputs": [],
   "source": [
    "from teachercourse_csp import assigner"
   ]
  },
  {
   "cell_type": "code",
   "execution_count": 9,
   "metadata": {},
   "outputs": [],
   "source": [
    "def time_formatter(course,start_time):\n",
    "    hs,ms = start_time\n",
    "    end = hs*6 + ms//10 + course_mins[course]//10\n",
    "    end_time = (end//6,(end - (end//6)*6)*10)\n",
    "    he,me = end_time\n",
    "    output = '{:0>2}'.format(hs)+':'+'{:0>2}'.format(ms)+' to ' + '{:0>2}'.format(he)+':'+ '{:0>2}'.format(me) \n",
    "    return output"
   ]
  },
  {
   "cell_type": "markdown",
   "metadata": {},
   "source": [
    "Now we are ready to compute the class schedule and display it below\n"
   ]
  },
  {
   "cell_type": "code",
   "execution_count": 10,
   "metadata": {},
   "outputs": [
    {
     "name": "stdout",
     "output_type": "stream",
     "text": [
      "MON\n",
      "-----\n",
      "physics - Lisa Jones - 745b - 14:00 to 15:00\n",
      "chemistry - John Smith - 745b - 13:00 to 14:30\n",
      "biology 1 - Peter Parker - 745b - 08:00 to 09:30\n",
      "calculus 1 - Simon Valinski - 115b - 12:00 to 13:00\n",
      "calculus 4 - Chu Yen - 433 - 14:00 to 15:00\n",
      "\n",
      "TUES\n",
      "-----\n",
      "physics - Lisa Jones - 115b - 13:30 to 14:30\n",
      "biology 2 - Peter Parker - 745b - 10:30 to 11:30\n",
      "molecular biology - Peter Parker - 433 - 12:00 to 13:00\n",
      "astrophysics - Simon Valinski - 655 - 12:00 to 13:00\n",
      "\n",
      "WED\n",
      "-----\n",
      "physics - Lisa Jones - 115a - 10:30 to 11:30\n",
      "chemistry - John Smith - 115b - 15:30 to 17:00\n",
      "biology 1 - Peter Parker - 115b - 11:00 to 12:30\n",
      "biology 2 - Peter Parker - 115b - 12:30 to 13:30\n",
      "calculus 1 - Simon Valinski - 115a - 12:30 to 13:30\n",
      "\n",
      "THUR\n",
      "-----\n",
      "biochemistry - Gregg Woods - 115b - 13:00 to 14:30\n",
      "biology 2 - Peter Parker - 433 - 11:00 to 12:00\n",
      "\n",
      "FRI\n",
      "-----\n",
      "biochemistry - Gregg Woods - 666 - 13:30 to 15:00\n",
      "calculus 1 - Simon Valinski - 745b - 15:30 to 16:30\n",
      "calculus 4 - Chu Yen - 115b - 17:00 to 18:00\n",
      "\n"
     ]
    }
   ],
   "source": [
    "full_schedule = assigner()\n",
    "weekdays = ['mon','tues','wed','thur','fri']\n",
    "for day in weekdays:\n",
    "    schedule = full_schedule[day]\n",
    "    print(day.upper())\n",
    "    print('-----')\n",
    "    for var,val in schedule.items():\n",
    "        course,professor = var\n",
    "        room,start_time = val\n",
    "        print(\"%s - %s - %s - %s\" % (course, professor, room, time_formatter(course,start_time)))\n",
    "    print('')"
   ]
  },
  {
   "cell_type": "code",
   "execution_count": null,
   "metadata": {},
   "outputs": [],
   "source": []
  }
 ],
 "metadata": {
  "kernelspec": {
   "display_name": "Python 3",
   "language": "python",
   "name": "python3"
  },
  "language_info": {
   "codemirror_mode": {
    "name": "ipython",
    "version": 3
   },
   "file_extension": ".py",
   "mimetype": "text/x-python",
   "name": "python",
   "nbconvert_exporter": "python",
   "pygments_lexer": "ipython3",
   "version": "3.6.2"
  }
 },
 "nbformat": 4,
 "nbformat_minor": 2
}
